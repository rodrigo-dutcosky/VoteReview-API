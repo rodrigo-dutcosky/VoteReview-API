{
 "cells": [
  {
   "cell_type": "markdown",
   "id": "6c394031",
   "metadata": {},
   "source": [
    "---\n",
    "\n",
    "<code><b>EX. USO FUNCAO ENUMERATE()</b></code>\n",
    "\n",
    "    for <contador>, <listobj> in enumerate(<iterobj>):\n",
    "    \n",
    "        rest-of-the-code..\n",
    "---\n"
   ]
  },
  {
   "cell_type": "code",
   "execution_count": null,
   "id": "1e2cede4",
   "metadata": {},
   "outputs": [],
   "source": [
    "NOMES = [\"Rodrigo\", \"Lorenzzo\", \"Tonhao\"]\n",
    "NUMEROS = range(10)\n",
    "\n",
    "for i, elemento in enumerate(NOMES):\n",
    "    \n",
    "    print(\"\\n i = {}     elemento = {}\\n\".format(i, elemento))\n",
    "    "
   ]
  },
  {
   "cell_type": "markdown",
   "id": "eea32e5e",
   "metadata": {},
   "source": [
    "---\n",
    "\n",
    "<code><b>RESOLUCAO RANDINT</b></code>\n",
    "\n",
    "---\n"
   ]
  },
  {
   "cell_type": "code",
   "execution_count": null,
   "id": "e02f6af6",
   "metadata": {},
   "outputs": [],
   "source": [
    "from random import randint\n",
    "\n",
    "MIN = 1\n",
    "MAX = 11\n",
    "LEN = 20\n",
    "\n",
    "########################\n",
    "\n",
    "lista = []\n",
    "for l in range(LEN):\n",
    "    lista.append(randint(MIN, MAX))\n"
   ]
  },
  {
   "cell_type": "code",
   "execution_count": null,
   "id": "efdcc4c5",
   "metadata": {},
   "outputs": [],
   "source": [
    "lista"
   ]
  },
  {
   "cell_type": "markdown",
   "id": "f944024a",
   "metadata": {},
   "source": [
    "---\n",
    "\n",
    "<code><b>CRIANDO ARQUIVO DE TEXTO SEM COMANDO -WITH-</b></code>\n",
    "\n",
    "---\n"
   ]
  },
  {
   "cell_type": "code",
   "execution_count": null,
   "id": "b71d4206",
   "metadata": {},
   "outputs": [],
   "source": [
    "## Criando um arquivo .txt vazio\n",
    "arq = open(file = \"frase.txt\", mode = \"wt\")\n",
    "\n",
    "## Escrevendo uma frase no arquivo\n",
    "arq.write(\"Hello World!\")\n",
    "\n",
    "## fechando o arquivo\n",
    "arq.close()\n"
   ]
  },
  {
   "cell_type": "markdown",
   "id": "fcc9e321",
   "metadata": {},
   "source": [
    "---\n",
    "\n",
    "<code><b>CRIANDO ARQUIVO DE TEXTO SEM COMANDO -WITH-</b></code>\n",
    "\n",
    "---\n"
   ]
  },
  {
   "cell_type": "code",
   "execution_count": null,
   "id": "ba779b77",
   "metadata": {},
   "outputs": [],
   "source": [
    "\n",
    "with open(\"frase-direta.txt\", \"wt\") as arq:\n",
    "    \n",
    "    arq.write(\"HELLO WORLD!!!!!!\")\n",
    "    "
   ]
  },
  {
   "cell_type": "markdown",
   "id": "b0d6be05",
   "metadata": {},
   "source": [
    "---\n",
    "\n",
    "## ----------------------------------------------------------------------------------------------------------\n",
    "\n",
    "# | EXERCICIOS\n",
    "\n",
    "\n",
    "\n",
    "---\n",
    "\n",
    "#### 01 | ENCODER CASEIRO\n",
    "\n",
    "<code><b>[IN ]</b> FACA</code>\n",
    "\n",
    "<code><b>[OUT]</b> 6131</code>\n",
    "\n",
    "---"
   ]
  },
  {
   "cell_type": "code",
   "execution_count": null,
   "id": "53820de7",
   "metadata": {},
   "outputs": [],
   "source": [
    "\n",
    "LETRAS = \"abcdefghijklmnopqrstuvwxyz\"\n",
    "\n",
    "def geradict():\n",
    "    \n",
    "    D = {}\n",
    "    \n",
    "    for index, letra in enumerate(LETRAS): \n",
    "        \n",
    "        D[letra] = index\n",
    "        \n",
    "    return D\n",
    "\n",
    "def encodar(string):\n",
    "\n",
    "    dic = geradict()\n",
    "    \n",
    "    enc = \"\"\n",
    "    for s in string:\n",
    "\n",
    "        vlr = dic[s.lower()]\n",
    "        enc += str(vlr)\n",
    "        \n",
    "\n",
    "    return enc\n",
    "\n"
   ]
  },
  {
   "cell_type": "code",
   "execution_count": null,
   "id": "04324f96",
   "metadata": {},
   "outputs": [],
   "source": [
    "encodar(\"LORENZZO\")"
   ]
  },
  {
   "cell_type": "markdown",
   "id": "0d94ab05",
   "metadata": {},
   "source": [
    "---\n",
    "\n",
    "#### 02 | RELOGINHO SACANA\n",
    "\n",
    "<code><b>[IN ]</b> [A, Y, C]</code>\n",
    "\n",
    "<code><b>[OUT]</b> 6 PONTOS</code>\n",
    "\n",
    "---\n",
    "\n",
    "    IN  : [A, Y, C]\n",
    "    OUT : 6 PONTOS\n",
    "    \n",
    "    - 1 -------\n",
    "      \n",
    "       1) A - Z   >>>   2) Z - Y\n",
    "      \n",
    "    - 2 -------\n",
    "    \n",
    "       1) Y - Z   >>>   2) Z - A   >>>   3) A - B   >>>   4) B - C\n",
    "       \n",
    "       \n",
    "       \n",
    "---"
   ]
  },
  {
   "cell_type": "code",
   "execution_count": null,
   "id": "a2ab777c",
   "metadata": {},
   "outputs": [],
   "source": [
    "\n",
    "LETRAS = [\"A\", \"B\", \"C\", \"D\", \"E\", \"F\"]\n",
    "\n",
    "for n, letra in enumerate(LETRAS):\n",
    "    \n",
    "    if n == len(LETRAS) - 1:\n",
    "        break\n",
    "        \n",
    "    \n",
    "    print(\"n = {} | letra = {} | LETRAS[n + 1] = {}\".format(n, letra, LETRAS[n + 1]))\n"
   ]
  },
  {
   "cell_type": "markdown",
   "id": "7d4dc366",
   "metadata": {},
   "source": [
    "---\n",
    "\n",
    "#### 03 | STRING REVERSA\n",
    "\n",
    "<code><b>[IN ]</b> FACA </code>\n",
    "\n",
    "<code><b>[OUT]</b> ACAF </code>\n",
    "\n",
    "---"
   ]
  },
  {
   "cell_type": "code",
   "execution_count": null,
   "id": "fac3292d",
   "metadata": {},
   "outputs": [],
   "source": [
    "### metodo 01\n",
    "\n",
    "def reverso1(texto:str):\n",
    "\n",
    "    tamanho = len(texto)\n",
    "    \n",
    "    _texto = \"\"\n",
    "    for n in range(1, tamanho + 1): \n",
    "        \n",
    "        _texto += texto[-n]\n",
    "        \n",
    "        \n",
    "    return _texto\n"
   ]
  },
  {
   "cell_type": "code",
   "execution_count": null,
   "id": "0d2c203c",
   "metadata": {},
   "outputs": [],
   "source": [
    "reverso1(\"coronavirus\")"
   ]
  },
  {
   "cell_type": "markdown",
   "id": "f04f3734",
   "metadata": {},
   "source": [
    "---"
   ]
  },
  {
   "cell_type": "code",
   "execution_count": null,
   "id": "9380c564",
   "metadata": {},
   "outputs": [],
   "source": [
    "### metodo 02\n",
    "\n",
    "def reverso2(texto:str):\n",
    "    \n",
    "    lista = list(range(len(texto)))\n",
    "    lista.reverse()\n",
    "\n",
    "    _texto = \"\".join(texto[n] for n in lista)\n",
    "    return _texto\n"
   ]
  },
  {
   "cell_type": "code",
   "execution_count": null,
   "id": "693872a7",
   "metadata": {},
   "outputs": [],
   "source": [
    "reverso2(\"coronavirus\")"
   ]
  }
 ],
 "metadata": {
  "kernelspec": {
   "display_name": "Python 3 (ipykernel)",
   "language": "python",
   "name": "python3"
  },
  "language_info": {
   "codemirror_mode": {
    "name": "ipython",
    "version": 3
   },
   "file_extension": ".py",
   "mimetype": "text/x-python",
   "name": "python",
   "nbconvert_exporter": "python",
   "pygments_lexer": "ipython3",
   "version": "3.9.7"
  }
 },
 "nbformat": 4,
 "nbformat_minor": 5
}
