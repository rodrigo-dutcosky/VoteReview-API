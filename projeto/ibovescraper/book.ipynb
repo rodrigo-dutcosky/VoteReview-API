{
 "cells": [
  {
   "cell_type": "markdown",
   "id": "2c674212",
   "metadata": {},
   "source": [
    "\n",
    "### PARTE 01"
   ]
  },
  {
   "cell_type": "code",
   "execution_count": null,
   "id": "36607d53",
   "metadata": {},
   "outputs": [],
   "source": [
    "import requests"
   ]
  },
  {
   "cell_type": "code",
   "execution_count": null,
   "id": "76f7967c",
   "metadata": {},
   "outputs": [],
   "source": [
    "link = \"https://www.infomoney.com.br/cotacoes/b3/acao/petrobras-petr4\""
   ]
  },
  {
   "cell_type": "code",
   "execution_count": null,
   "id": "ab222920",
   "metadata": {},
   "outputs": [],
   "source": [
    "response = requests.get(link)"
   ]
  },
  {
   "cell_type": "code",
   "execution_count": null,
   "id": "c8370deb",
   "metadata": {},
   "outputs": [],
   "source": [
    "response.content"
   ]
  },
  {
   "cell_type": "code",
   "execution_count": null,
   "id": "7f2462a5",
   "metadata": {},
   "outputs": [],
   "source": [
    "from bs4 import BeautifulSoup"
   ]
  },
  {
   "cell_type": "code",
   "execution_count": null,
   "id": "f2f34c12",
   "metadata": {},
   "outputs": [],
   "source": [
    "soup = BeautifulSoup(markup = response.content)"
   ]
  },
  {
   "cell_type": "code",
   "execution_count": null,
   "id": "994c4d9b",
   "metadata": {},
   "outputs": [],
   "source": [
    "chaves = [\"value\", \"percentage\", \"minimo\", \"maximo\", \"volume\"]"
   ]
  },
  {
   "cell_type": "code",
   "execution_count": null,
   "id": "3136e3b6",
   "metadata": {},
   "outputs": [],
   "source": [
    "divs = soup.find_all(name = \"div\", attrs = {\"class\": chaves})"
   ]
  },
  {
   "cell_type": "code",
   "execution_count": null,
   "id": "130e5428",
   "metadata": {},
   "outputs": [],
   "source": [
    "divs"
   ]
  },
  {
   "cell_type": "markdown",
   "id": "d443397c",
   "metadata": {},
   "source": [
    "---\n",
    "---\n",
    "---\n",
    "---\n",
    "---\n",
    "---\n",
    "---\n",
    "---\n",
    "---\n",
    "---\n",
    "---\n",
    "---\n",
    "---\n",
    "\n",
    "### PARTE 02"
   ]
  },
  {
   "cell_type": "code",
   "execution_count": null,
   "id": "551975cc",
   "metadata": {},
   "outputs": [],
   "source": [
    "\n",
    "textos = []\n",
    "\n",
    "### iterando sob todas as tags da lista\n",
    "for div in divs:\n",
    "    \n",
    "    ### encontrando a tag \"p\", que esta dentro da tag \"div\" na iteracao\n",
    "    p = div.find(name = \"p\")\n",
    "    \n",
    "    ### extraindo o valor do texto contido na tag da iteracao\n",
    "    texto = p.text.strip()\n",
    "    \n",
    "    ### adicionando o valor encontrado na iteracao dentro da lista \"textos\"\n",
    "    textos.append(texto)\n",
    "    "
   ]
  },
  {
   "cell_type": "code",
   "execution_count": null,
   "id": "8f37e084",
   "metadata": {},
   "outputs": [],
   "source": [
    "textos"
   ]
  },
  {
   "cell_type": "code",
   "execution_count": null,
   "id": "0f81387a",
   "metadata": {},
   "outputs": [],
   "source": [
    "\n",
    "dados = {}\n",
    "\n",
    "### iterando sob a qnt de items existentes dentro da lista \"chaves\"\n",
    "for i in range(len(chaves)):\n",
    "    \n",
    "    ### referenciando os valores da iteracao (i)\n",
    "    texto = textos[i]\n",
    "    chave = chaves[i]\n",
    "            \n",
    "    ### adicionando um novo par chave+valor no dicionario \"dados\"\n",
    "    dados[chave] = texto\n",
    "    "
   ]
  },
  {
   "cell_type": "code",
   "execution_count": null,
   "id": "8c2df39e",
   "metadata": {},
   "outputs": [],
   "source": [
    "dados"
   ]
  },
  {
   "cell_type": "markdown",
   "id": "586fa363",
   "metadata": {},
   "source": [
    "---\n",
    "---\n",
    "---\n",
    "---\n",
    "---\n",
    "---\n",
    "---\n",
    "---\n",
    "---\n",
    "---\n",
    "---\n",
    "---\n",
    "---\n",
    "\n",
    "### PARTE 03"
   ]
  },
  {
   "cell_type": "code",
   "execution_count": null,
   "id": "fd5b2c9e",
   "metadata": {},
   "outputs": [],
   "source": [
    "\n",
    "def buscar(obj:dict):\n",
    "    \n",
    "    keys = [\"value\", \"percentage\", \"minimo\", \"maximo\", \"volume\"]\n",
    "    tags = BeautifulSoup(requests.get(obj.get(\"link\")).content).find_all(\"div\", attrs = {\"class\": keys})\n",
    "    data = {k : tags[i].find(\"p\").text.strip() for i, k in enumerate(keys)}\n",
    "    \n",
    "    return data\n"
   ]
  },
  {
   "cell_type": "code",
   "execution_count": null,
   "id": "889d3953",
   "metadata": {},
   "outputs": [],
   "source": [
    "import json\n",
    "\n",
    "ACOES = json.loads(open(\"acoes.json\", \"r\").read())\n",
    "\n"
   ]
  }
 ],
 "metadata": {
  "kernelspec": {
   "display_name": "Python 3 (ipykernel)",
   "language": "python",
   "name": "python3"
  },
  "language_info": {
   "codemirror_mode": {
    "name": "ipython",
    "version": 3
   },
   "file_extension": ".py",
   "mimetype": "text/x-python",
   "name": "python",
   "nbconvert_exporter": "python",
   "pygments_lexer": "ipython3",
   "version": "3.9.7"
  }
 },
 "nbformat": 4,
 "nbformat_minor": 5
}
